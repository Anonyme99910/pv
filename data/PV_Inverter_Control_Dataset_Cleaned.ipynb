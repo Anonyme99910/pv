{
  "nbformat": 4,
  "nbformat_minor": 0,
  "metadata": {
    "colab": {
      "provenance": []
    },
    "kernelspec": {
      "name": "python3",
      "display_name": "Python 3"
    },
    "language_info": {
      "name": "python"
    }
  },
  "cells": [
    {
      "cell_type": "code",
      "execution_count": 2,
      "metadata": {
        "id": "eY0a12JP76Sz"
      },
      "outputs": [],
      "source": [
        "# Importer les librairies nécessaires\n",
        "import pandas as pd\n",
        "from google.colab import files\n",
        "\n",
        "\n"
      ]
    },
    {
      "cell_type": "code",
      "source": [
        "from google.colab import drive\n",
        "drive.mount('/content/drive')"
      ],
      "metadata": {
        "colab": {
          "base_uri": "https://localhost:8080/"
        },
        "id": "GkKZoyQt8mW5",
        "outputId": "4400f09f-5c08-4d1d-e42f-3a5c0f2ed5f3"
      },
      "execution_count": 3,
      "outputs": [
        {
          "output_type": "stream",
          "name": "stdout",
          "text": [
            "Mounted at /content/drive\n"
          ]
        }
      ]
    },
    {
      "cell_type": "code",
      "source": [
        "\n",
        "# 1️⃣ Charger le fichier depuis ton ordinateur\n",
        "uploaded = files.upload()  # sélectionne PV_Inverter_Control_Dataset.csv\n"
      ],
      "metadata": {
        "colab": {
          "base_uri": "https://localhost:8080/",
          "height": 73
        },
        "id": "PIa3naPG884-",
        "outputId": "78a9f707-2529-474c-9d69-0266a0190902"
      },
      "execution_count": 4,
      "outputs": [
        {
          "output_type": "display_data",
          "data": {
            "text/plain": [
              "<IPython.core.display.HTML object>"
            ],
            "text/html": [
              "\n",
              "     <input type=\"file\" id=\"files-473054e6-497c-4455-876b-e1ab0b6af5f3\" name=\"files[]\" multiple disabled\n",
              "        style=\"border:none\" />\n",
              "     <output id=\"result-473054e6-497c-4455-876b-e1ab0b6af5f3\">\n",
              "      Upload widget is only available when the cell has been executed in the\n",
              "      current browser session. Please rerun this cell to enable.\n",
              "      </output>\n",
              "      <script>// Copyright 2017 Google LLC\n",
              "//\n",
              "// Licensed under the Apache License, Version 2.0 (the \"License\");\n",
              "// you may not use this file except in compliance with the License.\n",
              "// You may obtain a copy of the License at\n",
              "//\n",
              "//      http://www.apache.org/licenses/LICENSE-2.0\n",
              "//\n",
              "// Unless required by applicable law or agreed to in writing, software\n",
              "// distributed under the License is distributed on an \"AS IS\" BASIS,\n",
              "// WITHOUT WARRANTIES OR CONDITIONS OF ANY KIND, either express or implied.\n",
              "// See the License for the specific language governing permissions and\n",
              "// limitations under the License.\n",
              "\n",
              "/**\n",
              " * @fileoverview Helpers for google.colab Python module.\n",
              " */\n",
              "(function(scope) {\n",
              "function span(text, styleAttributes = {}) {\n",
              "  const element = document.createElement('span');\n",
              "  element.textContent = text;\n",
              "  for (const key of Object.keys(styleAttributes)) {\n",
              "    element.style[key] = styleAttributes[key];\n",
              "  }\n",
              "  return element;\n",
              "}\n",
              "\n",
              "// Max number of bytes which will be uploaded at a time.\n",
              "const MAX_PAYLOAD_SIZE = 100 * 1024;\n",
              "\n",
              "function _uploadFiles(inputId, outputId) {\n",
              "  const steps = uploadFilesStep(inputId, outputId);\n",
              "  const outputElement = document.getElementById(outputId);\n",
              "  // Cache steps on the outputElement to make it available for the next call\n",
              "  // to uploadFilesContinue from Python.\n",
              "  outputElement.steps = steps;\n",
              "\n",
              "  return _uploadFilesContinue(outputId);\n",
              "}\n",
              "\n",
              "// This is roughly an async generator (not supported in the browser yet),\n",
              "// where there are multiple asynchronous steps and the Python side is going\n",
              "// to poll for completion of each step.\n",
              "// This uses a Promise to block the python side on completion of each step,\n",
              "// then passes the result of the previous step as the input to the next step.\n",
              "function _uploadFilesContinue(outputId) {\n",
              "  const outputElement = document.getElementById(outputId);\n",
              "  const steps = outputElement.steps;\n",
              "\n",
              "  const next = steps.next(outputElement.lastPromiseValue);\n",
              "  return Promise.resolve(next.value.promise).then((value) => {\n",
              "    // Cache the last promise value to make it available to the next\n",
              "    // step of the generator.\n",
              "    outputElement.lastPromiseValue = value;\n",
              "    return next.value.response;\n",
              "  });\n",
              "}\n",
              "\n",
              "/**\n",
              " * Generator function which is called between each async step of the upload\n",
              " * process.\n",
              " * @param {string} inputId Element ID of the input file picker element.\n",
              " * @param {string} outputId Element ID of the output display.\n",
              " * @return {!Iterable<!Object>} Iterable of next steps.\n",
              " */\n",
              "function* uploadFilesStep(inputId, outputId) {\n",
              "  const inputElement = document.getElementById(inputId);\n",
              "  inputElement.disabled = false;\n",
              "\n",
              "  const outputElement = document.getElementById(outputId);\n",
              "  outputElement.innerHTML = '';\n",
              "\n",
              "  const pickedPromise = new Promise((resolve) => {\n",
              "    inputElement.addEventListener('change', (e) => {\n",
              "      resolve(e.target.files);\n",
              "    });\n",
              "  });\n",
              "\n",
              "  const cancel = document.createElement('button');\n",
              "  inputElement.parentElement.appendChild(cancel);\n",
              "  cancel.textContent = 'Cancel upload';\n",
              "  const cancelPromise = new Promise((resolve) => {\n",
              "    cancel.onclick = () => {\n",
              "      resolve(null);\n",
              "    };\n",
              "  });\n",
              "\n",
              "  // Wait for the user to pick the files.\n",
              "  const files = yield {\n",
              "    promise: Promise.race([pickedPromise, cancelPromise]),\n",
              "    response: {\n",
              "      action: 'starting',\n",
              "    }\n",
              "  };\n",
              "\n",
              "  cancel.remove();\n",
              "\n",
              "  // Disable the input element since further picks are not allowed.\n",
              "  inputElement.disabled = true;\n",
              "\n",
              "  if (!files) {\n",
              "    return {\n",
              "      response: {\n",
              "        action: 'complete',\n",
              "      }\n",
              "    };\n",
              "  }\n",
              "\n",
              "  for (const file of files) {\n",
              "    const li = document.createElement('li');\n",
              "    li.append(span(file.name, {fontWeight: 'bold'}));\n",
              "    li.append(span(\n",
              "        `(${file.type || 'n/a'}) - ${file.size} bytes, ` +\n",
              "        `last modified: ${\n",
              "            file.lastModifiedDate ? file.lastModifiedDate.toLocaleDateString() :\n",
              "                                    'n/a'} - `));\n",
              "    const percent = span('0% done');\n",
              "    li.appendChild(percent);\n",
              "\n",
              "    outputElement.appendChild(li);\n",
              "\n",
              "    const fileDataPromise = new Promise((resolve) => {\n",
              "      const reader = new FileReader();\n",
              "      reader.onload = (e) => {\n",
              "        resolve(e.target.result);\n",
              "      };\n",
              "      reader.readAsArrayBuffer(file);\n",
              "    });\n",
              "    // Wait for the data to be ready.\n",
              "    let fileData = yield {\n",
              "      promise: fileDataPromise,\n",
              "      response: {\n",
              "        action: 'continue',\n",
              "      }\n",
              "    };\n",
              "\n",
              "    // Use a chunked sending to avoid message size limits. See b/62115660.\n",
              "    let position = 0;\n",
              "    do {\n",
              "      const length = Math.min(fileData.byteLength - position, MAX_PAYLOAD_SIZE);\n",
              "      const chunk = new Uint8Array(fileData, position, length);\n",
              "      position += length;\n",
              "\n",
              "      const base64 = btoa(String.fromCharCode.apply(null, chunk));\n",
              "      yield {\n",
              "        response: {\n",
              "          action: 'append',\n",
              "          file: file.name,\n",
              "          data: base64,\n",
              "        },\n",
              "      };\n",
              "\n",
              "      let percentDone = fileData.byteLength === 0 ?\n",
              "          100 :\n",
              "          Math.round((position / fileData.byteLength) * 100);\n",
              "      percent.textContent = `${percentDone}% done`;\n",
              "\n",
              "    } while (position < fileData.byteLength);\n",
              "  }\n",
              "\n",
              "  // All done.\n",
              "  yield {\n",
              "    response: {\n",
              "      action: 'complete',\n",
              "    }\n",
              "  };\n",
              "}\n",
              "\n",
              "scope.google = scope.google || {};\n",
              "scope.google.colab = scope.google.colab || {};\n",
              "scope.google.colab._files = {\n",
              "  _uploadFiles,\n",
              "  _uploadFilesContinue,\n",
              "};\n",
              "})(self);\n",
              "</script> "
            ]
          },
          "metadata": {}
        },
        {
          "output_type": "stream",
          "name": "stdout",
          "text": [
            "Saving PV_Inverter_Control_Dataset.csv to PV_Inverter_Control_Dataset.csv\n"
          ]
        }
      ]
    },
    {
      "cell_type": "code",
      "source": [
        "# 2️⃣ Lire le fichier CSV dans un DataFrame\n",
        "for fn in uploaded.keys():\n",
        "    data = pd.read_csv(fn)"
      ],
      "metadata": {
        "id": "0eWBRAJo9Kis"
      },
      "execution_count": 6,
      "outputs": []
    },
    {
      "cell_type": "code",
      "source": [
        "\n",
        "# 3️⃣ Vérifier les valeurs uniques dans Control_Scheme\n",
        "print(\"Valeurs uniques de Control_Scheme :\", data['Control_Scheme'].unique())\n"
      ],
      "metadata": {
        "colab": {
          "base_uri": "https://localhost:8080/"
        },
        "id": "sJwKj-N-9R7F",
        "outputId": "7180e69c-e9a6-4829-a60a-c5896bb8a6eb"
      },
      "execution_count": 7,
      "outputs": [
        {
          "output_type": "stream",
          "name": "stdout",
          "text": [
            "Valeurs uniques de Control_Scheme : ['Distributed' 'Decentralized']\n"
          ]
        }
      ]
    },
    {
      "cell_type": "code",
      "source": [
        "\n",
        "# 4️⃣ Supprimer toutes les lignes où Control_Scheme est 'Distributed'\n",
        "cleaned_data = data[data['Control_Scheme'] != 'Distributed']\n"
      ],
      "metadata": {
        "id": "Qy-mDHnz9X15"
      },
      "execution_count": 9,
      "outputs": []
    },
    {
      "cell_type": "code",
      "source": [
        "# 5️⃣ Vérifier le résultat\n",
        "print(\"Données après nettoyage :\")\n",
        "print(cleaned_data)"
      ],
      "metadata": {
        "colab": {
          "base_uri": "https://localhost:8080/"
        },
        "id": "oahl-jfX9fx2",
        "outputId": "0098f9d0-7f8f-46d5-f6b9-90efc67f8751"
      },
      "execution_count": 10,
      "outputs": [
        {
          "output_type": "stream",
          "name": "stdout",
          "text": [
            "Données après nettoyage :\n",
            "     Inverter_ID   Season  Irradiance_Wm2  Temperature_C  Bus_Voltage_pu  \\\n",
            "2            PV3   Winter          112.06           44.2           0.922   \n",
            "4            PV5   Winter          140.14           23.1           1.023   \n",
            "6            PV3   Summer          348.15           41.0           0.938   \n",
            "7            PV3   Summer          348.05           14.4           1.011   \n",
            "10           PV4   Summer          434.09           34.2           1.070   \n",
            "...          ...      ...             ...            ...             ...   \n",
            "1492         PV3   Summer          634.67           42.9           0.998   \n",
            "1493         PV3   Summer          732.38           27.2           1.067   \n",
            "1496         PV4  Monsoon          924.11           24.6           0.913   \n",
            "1498         PV3   Summer          321.66           42.8           0.948   \n",
            "1499         PV6   Winter          721.61           28.0           0.978   \n",
            "\n",
            "      Load_Demand_MW Control_Scheme  Reactive_Power_Setting_MVAR  \\\n",
            "2              0.588  Decentralized                        0.092   \n",
            "4              0.667  Decentralized                        0.098   \n",
            "6              0.725  Decentralized                        0.140   \n",
            "7              0.988  Decentralized                        0.140   \n",
            "10             0.761  Decentralized                        0.157   \n",
            "...              ...            ...                          ...   \n",
            "1492           0.887  Decentralized                        0.197   \n",
            "1493           0.508  Decentralized                        0.216   \n",
            "1496           0.781  Decentralized                        0.255   \n",
            "1498           0.726  Decentralized                        0.134   \n",
            "1499           0.692  Decentralized                        0.214   \n",
            "\n",
            "      Voltage_Setting_pu   VOCR  Power_Loss_kW  \n",
            "2                  0.932  0.040           2.65  \n",
            "4                  1.033  0.044           2.70  \n",
            "6                  0.948  0.033           2.19  \n",
            "7                  1.021  0.022           2.56  \n",
            "10                 1.080  0.025           2.40  \n",
            "...                  ...    ...            ...  \n",
            "1492               1.008  0.025           2.53  \n",
            "1493               1.077  0.026           2.50  \n",
            "1496               0.923  0.015           2.01  \n",
            "1498               0.958  0.025           2.19  \n",
            "1499               0.988  0.040           2.80  \n",
            "\n",
            "[760 rows x 11 columns]\n"
          ]
        }
      ]
    },
    {
      "cell_type": "code",
      "source": [
        "# 4️⃣bis Supprimer la colonne 'Control_Scheme'\n",
        "cleaned_data = cleaned_data.drop(columns=['Control_Scheme'])\n",
        "\n",
        "# Vérifier le résultat\n",
        "print(cleaned_data.head())\n",
        "\n"
      ],
      "metadata": {
        "colab": {
          "base_uri": "https://localhost:8080/"
        },
        "id": "tjAhdj_p9t1v",
        "outputId": "56d82613-d6b5-48ff-f533-59975f0b32db"
      },
      "execution_count": 12,
      "outputs": [
        {
          "output_type": "stream",
          "name": "stdout",
          "text": [
            "   Inverter_ID  Season  Irradiance_Wm2  Temperature_C  Bus_Voltage_pu  \\\n",
            "2          PV3  Winter          112.06           44.2           0.922   \n",
            "4          PV5  Winter          140.14           23.1           1.023   \n",
            "6          PV3  Summer          348.15           41.0           0.938   \n",
            "7          PV3  Summer          348.05           14.4           1.011   \n",
            "10         PV4  Summer          434.09           34.2           1.070   \n",
            "\n",
            "    Load_Demand_MW  Reactive_Power_Setting_MVAR  Voltage_Setting_pu   VOCR  \\\n",
            "2            0.588                        0.092               0.932  0.040   \n",
            "4            0.667                        0.098               1.033  0.044   \n",
            "6            0.725                        0.140               0.948  0.033   \n",
            "7            0.988                        0.140               1.021  0.022   \n",
            "10           0.761                        0.157               1.080  0.025   \n",
            "\n",
            "    Power_Loss_kW  \n",
            "2            2.65  \n",
            "4            2.70  \n",
            "6            2.19  \n",
            "7            2.56  \n",
            "10           2.40  \n"
          ]
        }
      ]
    },
    {
      "cell_type": "code",
      "source": [
        "# 6️⃣ Sauvegarder le fichier nettoyé\n",
        "cleaned_data.to_csv(\"PV_Inverter_Control_Dataset_Cleaned.csv\", index=False)\n",
        "\n",
        "# 7️⃣ Télécharger le fichier nettoyé\n",
        "files.download(\"PV_Inverter_Control_Dataset_Cleaned.csv\")"
      ],
      "metadata": {
        "colab": {
          "base_uri": "https://localhost:8080/",
          "height": 17
        },
        "id": "6HXbTX4j_Yqb",
        "outputId": "4d0f40db-e14c-4b83-d3e7-3ef397c19367"
      },
      "execution_count": 13,
      "outputs": [
        {
          "output_type": "display_data",
          "data": {
            "text/plain": [
              "<IPython.core.display.Javascript object>"
            ],
            "application/javascript": [
              "\n",
              "    async function download(id, filename, size) {\n",
              "      if (!google.colab.kernel.accessAllowed) {\n",
              "        return;\n",
              "      }\n",
              "      const div = document.createElement('div');\n",
              "      const label = document.createElement('label');\n",
              "      label.textContent = `Downloading \"${filename}\": `;\n",
              "      div.appendChild(label);\n",
              "      const progress = document.createElement('progress');\n",
              "      progress.max = size;\n",
              "      div.appendChild(progress);\n",
              "      document.body.appendChild(div);\n",
              "\n",
              "      const buffers = [];\n",
              "      let downloaded = 0;\n",
              "\n",
              "      const channel = await google.colab.kernel.comms.open(id);\n",
              "      // Send a message to notify the kernel that we're ready.\n",
              "      channel.send({})\n",
              "\n",
              "      for await (const message of channel.messages) {\n",
              "        // Send a message to notify the kernel that we're ready.\n",
              "        channel.send({})\n",
              "        if (message.buffers) {\n",
              "          for (const buffer of message.buffers) {\n",
              "            buffers.push(buffer);\n",
              "            downloaded += buffer.byteLength;\n",
              "            progress.value = downloaded;\n",
              "          }\n",
              "        }\n",
              "      }\n",
              "      const blob = new Blob(buffers, {type: 'application/binary'});\n",
              "      const a = document.createElement('a');\n",
              "      a.href = window.URL.createObjectURL(blob);\n",
              "      a.download = filename;\n",
              "      div.appendChild(a);\n",
              "      a.click();\n",
              "      div.remove();\n",
              "    }\n",
              "  "
            ]
          },
          "metadata": {}
        },
        {
          "output_type": "display_data",
          "data": {
            "text/plain": [
              "<IPython.core.display.Javascript object>"
            ],
            "application/javascript": [
              "download(\"download_e4c2b9b2-047b-41ea-a6f1-d083a2f23090\", \"PV_Inverter_Control_Dataset_Cleaned.csv\", 43890)"
            ]
          },
          "metadata": {}
        }
      ]
    }
  ]
}